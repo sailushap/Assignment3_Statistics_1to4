{
 "cells": [
  {
   "cell_type": "code",
   "execution_count": 7,
   "metadata": {},
   "outputs": [],
   "source": [
    "import pandas as pd\n",
    "import numpy as np\n",
    "import scipy.stats as stat\n",
    "import matplotlib.pyplot as plt\n",
    "from scipy.stats import zscore"
   ]
  },
  {
   "cell_type": "markdown",
   "metadata": {},
   "source": [
    "# 2.1. Problem Statement: STATISTICS 1 "
   ]
  },
  {
   "cell_type": "code",
   "execution_count": 8,
   "metadata": {},
   "outputs": [
    {
     "data": {
      "text/plain": [
       "335.9274061791062"
      ]
     },
     "execution_count": 8,
     "metadata": {},
     "output_type": "execute_result"
    }
   ],
   "source": [
    "#1. You survey households in your area to find the average rent they are paying. Find the standard deviation from the following data: \n",
    " # $1550, $1700, $900, $850, $1000, $950. \n",
    "    \n",
    "a = np.array([ 850, 900, 950,1000,1550,1700])\n",
    "a.std()"
   ]
  },
  {
   "cell_type": "code",
   "execution_count": 101,
   "metadata": {},
   "outputs": [
    {
     "name": "stdout",
     "output_type": "stream",
     "text": [
      "Standard Deviation: 71.99479147827293\n",
      "Variance: 5183.250000000001\n"
     ]
    }
   ],
   "source": [
    "#2. Find the variance for the following set of data representing trees in California (heights in feet): \n",
    " \n",
    "# 3, 21, 98, 203, 17, 9\n",
    "\n",
    "a = np.array([3, 21, 98, 203, 17, 9])\n",
    "\n",
    "sd = a.std()\n",
    "print(\"Standard Deviation:\",sd)\n",
    "print(\"Variance:\",sd**2)\n"
   ]
  },
  {
   "cell_type": "code",
   "execution_count": 102,
   "metadata": {},
   "outputs": [
    {
     "data": {
      "text/plain": [
       "<matplotlib.axes._subplots.AxesSubplot at 0x1e84c5862e8>"
      ]
     },
     "execution_count": 102,
     "metadata": {},
     "output_type": "execute_result"
    },
    {
     "data": {
      "image/png": "[encoded data removed]",
      "text/plain": [
       "<Figure size 360x360 with 1 Axes>"
      ]
     },
     "metadata": {
      "needs_background": "light"
     },
     "output_type": "display_data"
    }
   ],
   "source": [
    "# 3. In a class of 100 students, 80 students passed in all subjects, 10 failed in one subject,\n",
    "# 7 failed in two subjects and 3 failed in three subjects. \n",
    "#Find the probability distribution of the variable for number of subjects a student from the given class has failed in.\n",
    "import pandas as pd\n",
    "dict = {0:80, 1:10,7:2, 3:3}\n",
    "df =  pd.DataFrame(dict.items(), columns=['Subjects_Failed', 'Students'])\n",
    "df.Students.plot(kind=\"bar\",figsize=(5,5))"
   ]
  },
  {
   "cell_type": "markdown",
   "metadata": {},
   "source": [
    "# 2.2. Problem Statement: STATISTICS 2 "
   ]
  },
  {
   "cell_type": "code",
   "execution_count": 93,
   "metadata": {},
   "outputs": [],
   "source": [
    "from scipy.stats import binom"
   ]
  },
  {
   "cell_type": "code",
   "execution_count": 2,
   "metadata": {},
   "outputs": [
    {
     "data": {
      "text/plain": [
       "0.00034264958230778434"
      ]
     },
     "execution_count": 2,
     "metadata": {},
     "output_type": "execute_result"
    }
   ],
   "source": [
    "#1. A test is conducted which is consisting of 20 MCQs (multiple choices questions) with every MCQ having '\n",
    "#its four options out of which only one is correct. \n",
    "#Determine the probability that a person undertaking that test has answered exactly 5 questions wrong.\n",
    "\n",
    "binom.pmf(5,20,0.75) *100"
   ]
  },
  {
   "cell_type": "code",
   "execution_count": 16,
   "metadata": {},
   "outputs": [
    {
     "data": {
      "text/plain": [
       "0.029531204310523224"
      ]
     },
     "execution_count": 16,
     "metadata": {},
     "output_type": "execute_result"
    }
   ],
   "source": [
    "#2. A die marked A to E is rolled 50 times. Find the probability of getting a “D” exactly 5 times. \n",
    "binom.pmf(5,50,0.20)"
   ]
  },
  {
   "cell_type": "code",
   "execution_count": 100,
   "metadata": {},
   "outputs": [
    {
     "name": "stdout",
     "output_type": "stream",
     "text": [
      "Probablity of drawing both Red balls: 0.13333333333333333\n",
      "Probability of drawing Red and Black ball: 0.26666666666666666\n",
      "Probability of drawing Black and Red ball: 0.26666666666666666\n",
      "Probablity of drawing both Black balls: 0.3333333333333333\n"
     ]
    }
   ],
   "source": [
    "# 3. Two balls are drawn at random in succession without replacement from an urn containing 4 red balls and 6 black balls. \n",
    "# Find the probabilities of all the possible outcomes\n",
    "\n",
    "print(\"Probablity of drawing both Red balls:\",(4/10)*(3/9))\n",
    "print(\"Probability of drawing Red and Black ball:\",(4/10)*(6/9))\n",
    "print(\"Probability of drawing Black and Red ball:\",(6/10)*(4/9)) \n",
    "print(\"Probablity of drawing both Black balls:\",(6/10)*(5/9))\n",
    "\n"
   ]
  },
  {
   "cell_type": "markdown",
   "metadata": {},
   "source": [
    "# 2.3. Problem Statement: STATISTICS 3 "
   ]
  },
  {
   "cell_type": "code",
   "execution_count": 107,
   "metadata": {},
   "outputs": [
    {
     "name": "stdout",
     "output_type": "stream",
     "text": [
      "Z Score: 3.2\n",
      "Z critical value on left : -1.9599639845400545\n",
      "Z critical value on right: 1.9599639845400545\n",
      "Reject Null Hypothesis i.e., there is an effect of corn starch \n"
     ]
    }
   ],
   "source": [
    "#Blood glucose levels for obese patients have a mean of 100 with a standard deviation of  15. \n",
    "#A researcher thinks that a diet high in raw cornstarch will have a positive effect on blood glucose levels. \n",
    "#A sample of 36 patients who have tried the raw cornstarch diet have a mean glucose level of 108. \n",
    "#Test the hypothesis that the raw cornstarch had an effect or not.\n",
    "\n",
    "mean = 100\n",
    "stdev = 15\n",
    "xcritical = 108\n",
    "n = 36\n",
    "# Null Hypothesis H0: Mean = 100 i.e., no effect of corn starch on glucose levels\n",
    "# Alternate Hypothesis H1: Mean != 100 , there is an effect of corn starch on glucose levels\n",
    "alpha = 0.05\n",
    "z_score = (xcritical-mean)/(stdev/np.sqrt(36))\n",
    "z_critical_left = stat.norm.ppf(alpha/2) # Conducting a two tail test \n",
    "z_critical_right = -1*z_critical_left # since it is a normal distribution\n",
    "\n",
    "print(\"Z Score:\", z_score)\n",
    "print(\"Z critical value on left :\", z_critical_left)\n",
    "print(\"Z critical value on right:\" , z_critical_right )\n",
    "\n",
    "if z_score > z_critical_right or z_score < z_critical_left:\n",
    "    print(\"Reject Null Hypothesis i.e., there is an effect of corn starch \")\n",
    "else:\n",
    "    print(\"Fail to Reject Null Hypothesis i.e, no effect of corn starch\")\n",
    "\n",
    "\n",
    "\n"
   ]
  },
  {
   "cell_type": "code",
   "execution_count": 63,
   "metadata": {},
   "outputs": [
    {
     "name": "stdout",
     "output_type": "stream",
     "text": [
      "The probability that the survey will show a greater percentage of Republican voters in the second state: 0.23946399182220013\n"
     ]
    }
   ],
   "source": [
    "#1. In one state, 52% of the voters are Republicans, and 48% are Democrats. In a second state, 47% of the voters are \n",
    "#Republicans, and 53% are Democrats. Suppose a simple random sample of 100 voters are surveyed from each state. \n",
    " \n",
    "#What is the probability that the survey will show a greater percentage of Republican voters in the second state\n",
    "#than in the first state? \n",
    "\n",
    "P1 = 0.52 # Population Proportion of state 1\n",
    "P2 = 0.47 # Population Proportion of state 2\n",
    "n1 = 100 # Sample Size of State 1\n",
    "n2 = 100 #Sample Size of State 2\n",
    "Mean = P1 - P2\n",
    "stdev = np.sqrt(P1*(1-P1)/n1 + P2*(1-P2)/n2 )\n",
    "Z_Score = (0 - Mean)/stdev\n",
    "P_Value = stat.norm.cdf(Z_Score)\n",
    "print(\"The probability that the survey will show a greater percentage of Republican voters in the second state:\", P_Value)\n",
    "\n"
   ]
  },
  {
   "cell_type": "code",
   "execution_count": 66,
   "metadata": {},
   "outputs": [
    {
     "name": "stdout",
     "output_type": "stream",
     "text": [
      "The score 1100 is 0.35406698564593303 Standard deviations from the mean 1026\n"
     ]
    }
   ],
   "source": [
    "#2. You take the SAT and score 1100. The mean score for the SAT is 1026 and the standard deviation is 209.\n",
    "#How well did you score on the test compared to the average test taker? \n",
    "\n",
    "X = 1100\n",
    "Mean = 1026\n",
    "stdev = 209\n",
    "Z = (X - Mean)/stdev\n",
    "print(\"The score\", X, \"is\", Z ,\"Standard deviations from the mean\" ,Mean)\n"
   ]
  },
  {
   "cell_type": "markdown",
   "metadata": {},
   "source": [
    "# 2.4. Problem Statement: STATISTICS 4 "
   ]
  },
  {
   "cell_type": "code",
   "execution_count": 4,
   "metadata": {},
   "outputs": [
    {
     "name": "stdout",
     "output_type": "stream",
     "text": [
      "[[60, 54, 46, 41], [40, 44, 53, 57]]\n",
      "dof=3\n",
      "[[50.88607595 49.86835443 50.37721519 49.86835443]\n",
      " [49.11392405 48.13164557 48.62278481 48.13164557]]\n",
      "probability=0.950, critical=7.815, stat=8.006\n",
      "Dependent (reject H0)\n",
      "significance=0.050, p=0.046\n",
      "Dependent (reject H0)\n"
     ]
    }
   ],
   "source": [
    "#1. Is gender independent of education level? A random sample of 395 people were surveyed and each person was asked to report the highest education level they obtained. The data that resulted from the survey is summarized in the following table: \n",
    " \n",
    "#                High-School    Bachelor         Masters Ph.D.   Total \n",
    "#        Female      60         54                46     41       201      \n",
    "#        Male        40         44                53     57       194 \n",
    "#        Total       100        98                99     98       395  \n",
    "#Question: Are gender and education level dependent at 5% level of significance? \n",
    "#In other words, given the data collected above, is there a relationship between the gender of an individual and the level of education that they have obtained? \n",
    "\n",
    "from scipy.stats import chi2_contingency\n",
    "from scipy.stats import chi2\n",
    "\n",
    "# Null Hypothesis: H0 -> Gender Independent of Education Level\n",
    "#Alternate Hypothesis: H1 -> Gender and Education level dependent at 5% level of significanceG# contingency table\n",
    "\n",
    "table = [[60,54,46,41],\n",
    "         [40,44,53,57]]\n",
    "\n",
    "print(table)\n",
    "stat, p, dof, expected = chi2_contingency(table)\n",
    "print('dof=%d' % dof)\n",
    "print(expected)\n",
    "# interpret test-statistic\n",
    "prob = 0.95\n",
    "critical = chi2.ppf(prob, dof)\n",
    "print('probability=%.3f, critical=%.3f, stat=%.3f' % (prob, critical, stat))\n",
    "if abs(stat) >= critical:\n",
    "    print('Dependent (reject H0)')\n",
    "else:\n",
    "    print('Independent (fail to reject H0)')\n",
    "# interpret p-value\n",
    "alpha = 1.0 - prob\n",
    "print('significance=%.3f, p=%.3f' % (alpha, p))\n",
    "if p <= alpha:\n",
    "    print('Dependent (reject H0)')\n",
    "else:\n",
    "    print('Independent (fail to reject H0)')"
   ]
  },
  {
   "cell_type": "code",
   "execution_count": 105,
   "metadata": {},
   "outputs": [
    {
     "name": "stdout",
     "output_type": "stream",
     "text": [
      "F absolute: 9.747205503009457\n",
      "Reject Null Hypothesis i.e., atleast two of the means are significantly different from each other\n",
      "\n",
      "API Format\n",
      "----------\n",
      "F(2,12) = 9.747205503009457 p < 0.05 Eta-Squared: 4883.733333333333\n"
     ]
    },
    {
     "data": {
      "text/plain": [
       "F_onewayResult(statistic=9.747205503009463, pvalue=0.0030597541434430556)"
      ]
     },
     "execution_count": 105,
     "metadata": {},
     "output_type": "execute_result"
    }
   ],
   "source": [
    "#2. Using the following data, perform a one-way analysis of variance using α=.05. Write up the results in APA format. \n",
    " \n",
    "#[Group1: 51, 45, 33, 45, 67]  [Group2: 23, 43, 23, 43, 45]  [Group3: 56, 76, 74, 87, 56] \n",
    "\n",
    "Group1 = np.array([51,45,33,45,67])\n",
    "Group2 = np.array([23, 43, 23, 43, 45])\n",
    "Group3 = np.array([56, 76, 74, 87, 56])\n",
    "\n",
    "Sqdev1 = (Group1.mean() - Group1)**2\n",
    "Sqdev2 = (Group2.mean() - Group2)**2\n",
    "Sqdev3= (Group3.mean() - Group3)**2\n",
    "\n",
    "Sum_Sqdev1 = Sqdev1.sum()\n",
    "Sum_Sqdev2 = Sqdev2.sum()\n",
    "Sum_Sqdev3 = Sqdev3.sum()\n",
    "\n",
    "Var1 = Sum_Sqdev1/(len(Group1) -1)\n",
    "Var2 = Sum_Sqdev2/(len(Group2) -1)\n",
    "Var3 = Sum_Sqdev3/(len(Group3) -1)\n",
    "\n",
    "MS_Within = (Var1 + Var2 + Var3)/3\n",
    "Mean_Grand = (Group1.mean() + Group2.mean() + Group3.mean())/3\n",
    "Mean_Grand\n",
    "df = len(Group1) + len(Group1) + len(Group1) - 3\n",
    "df\n",
    "SS_Within = MS_Within * df\n",
    "SS_Means = (Group1.mean() - Mean_Grand )**2 +  (Group2.mean() - Mean_Grand )**2 +  (Group3.mean() - Mean_Grand )**2\n",
    "Var_Means = SS_Means/(3-1)\n",
    "MS_Between = Var_Means * 5\n",
    "df_groups = 3-1\n",
    "SS_Between =  MS_Between * df_groups\n",
    "F = MS_Between/MS_Within\n",
    "\n",
    "F_Critical = stat.f.ppf(q=1-0.05, dfn=2, dfd=12)\n",
    "\n",
    "Eta_Square = SS_Between + SS_Within\n",
    "\n",
    "print(\"F absolute:\", F)\n",
    "\n",
    "if F > F_Critical:\n",
    "    print(\"Reject Null Hypothesis i.e., atleast two of the means are significantly different from each other\")\n",
    "else:\n",
    "    print(\"Fail to reject Null Hypothesis\")\n",
    "print(\"\\nAPI Format\")\n",
    "print('-' * 10)\n",
    "print(\"F(2,12) =\", F , \"p < 0.05\",\"Eta-Squared:\", Eta_Square )\n",
    "\n",
    "# Using Scipy\n",
    "stat.f_oneway(Group1,Group2,Group3)\n",
    "\n",
    "\n",
    "\n"
   ]
  },
  {
   "cell_type": "code",
   "execution_count": 41,
   "metadata": {},
   "outputs": [
    {
     "name": "stdout",
     "output_type": "stream",
     "text": [
      "250.0\n",
      "62.0\n",
      "F Test Value: 4.032258064516129\n"
     ]
    }
   ],
   "source": [
    "#3. Calculate F Test for given 10, 20, 30, 40, 50 and 5,10,15, 20, 25. \n",
    "\n",
    "import statistics\n",
    "a = np.array([10,20,30,40,50])\n",
    "b = np.array([5,10,15,20,25])\n",
    "a.mean()\n",
    "Variance1 = statistics.stdev(a) **2\n",
    "print(Variance1)\n",
    "Variance2 = statistics.stdev(b)**2\n",
    "print(Variance2)\n",
    "F = Variance1/Variance2\n",
    "print(\"F Test Value:\",F)\n"
   ]
  }
 ],
 "metadata": {
  "kernelspec": {
   "display_name": "Python 3",
   "language": "python",
   "name": "python3"
  },
  "language_info": {
   "codemirror_mode": {
    "name": "ipython",
    "version": 3
   },
   "file_extension": ".py",
   "mimetype": "text/x-python",
   "name": "python",
   "nbconvert_exporter": "python",
   "pygments_lexer": "ipython3",
   "version": "3.7.3"
  }
 },
 "nbformat": 4,
 "nbformat_minor": 2
}
